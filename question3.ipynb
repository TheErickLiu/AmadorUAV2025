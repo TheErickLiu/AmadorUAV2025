{
 "cells": [
  {
   "cell_type": "markdown",
   "metadata": {},
   "source": [
    "# Question 3 Vision\n",
    "\n",
    "### Overview:\n",
    "\n",
    "One of the software division’s primary tasks is identifying and localizing ODLCs as mentioned previously. As written in the reference, these ODLCs are composed of a unique color, character, and shape that must be classified from 100ft in the air. However, in order to train models with high accuracy, we would need to collect thousands of images over 100+ hours of flight time. We, unfortunately, cannot reasonably perform this task before the competition deadline. So, in order to have both well-trained models within timeframes, we use generation scripts which can produce thousands of images within seconds that can somewhat match the quality and precision of the camera in black and white. \n",
    "\n",
    "### Your Task:\n",
    "\n",
    "- Write generator script(s) for shape and/or character.\n",
    "- Train a YOLOv8n model on this data (hint: is there a way to not manually label every image?).\n",
    "- Correctly recognize the shape and character of the ODLC.\n",
    "\n",
    "### Constraints: \n",
    "\n",
    "Character - At SUAS, all alphanumeric characters are allowed, but for simplicity, it can be assumed that all test cases are uppercase letters (ABCDEFGHIJKLMNOPQRSTUVWXYZ)\n",
    "Shape - The only valid shapes are circle, semicircle, quarter circle, triangle, rectangle, pentagon, star, and cross.\n",
    "\n",
    "### Restrictions:\n",
    "\n",
    "Don’t use non-standard libraries except PIL, ultralytics, numpy, and opencv-python.\n",
    "\n",
    "P.S: If it is taking more than 5 hours to train a YOLOv8n model, reduce the number of training images. I am mostly trying to learn about your problem-solving process rather than the actual results.\n",
    "\n",
    "### File Input Format: \n",
    "The .in file will consist of a square image with random dimensions, and the ODLC is guaranteed to be in the image however, it may not be in the center.\n",
    "\n",
    "### File Output Format: \n",
    "Output the shape and character respectively separated by spaces. When submitting the deliverables for this problem, include the YOLOv8 .pt model along with the models, labels, and all YOLOv8 created (like runs and predict) directories."
   ]
  },
  {
   "cell_type": "markdown",
   "metadata": {},
   "source": [
    "### Draw a Circle"
   ]
  },
  {
   "cell_type": "code",
   "execution_count": 1,
   "metadata": {},
   "outputs": [],
   "source": [
    "from PIL import Image, ImageDraw, ImageFont\n",
    "import random\n",
    "\n",
    "# fix the image size\n",
    "image_size = 360\n",
    "\n",
    "# Draw the shape that fits 70-80% of the image\n",
    "shape_size = image_size * random.randint(70, 80) // 100\n"
   ]
  },
  {
   "cell_type": "code",
   "execution_count": 2,
   "metadata": {},
   "outputs": [],
   "source": [
    "# Draw a circle\n",
    "def draw_ellipse(draw, center, size, outline=\"black\", width=10):\n",
    "    size = size // 2\n",
    "    xy = (center[0] - size, center[1] - size, center[0] + size, center[1] + size)\n",
    "    draw.ellipse(xy, outline=outline, width=width)\n",
    "    return xy"
   ]
  },
  {
   "cell_type": "code",
   "execution_count": 3,
   "metadata": {},
   "outputs": [
    {
     "name": "stdout",
     "output_type": "stream",
     "text": [
      "shape bounding box = (53, 53, 307, 307)\n"
     ]
    }
   ],
   "source": [
    "# Create a blank image\n",
    "img = Image.new('RGB', (image_size, image_size), color='white')\n",
    "draw = ImageDraw.Draw(img)\n",
    "\n",
    "shape_bb = draw_ellipse(draw, [image_size//2, image_size//2], shape_size)\n",
    "print(\"shape bounding box =\", shape_bb)\n",
    "\n",
    "draw.rectangle(shape_bb, outline=\"blue\")\n",
    "img.show()"
   ]
  },
  {
   "cell_type": "markdown",
   "metadata": {},
   "source": [
    "### Draw a Character"
   ]
  },
  {
   "cell_type": "code",
   "execution_count": 4,
   "metadata": {},
   "outputs": [],
   "source": [
    "# Draw the character that fits inside the shape\n",
    "def draw_character(draw, character, bbox, center_ratio = 0.5, char_ratio = 0.75, font_type = \"Arial Unicode\", debug=False):\n",
    "    from PIL import ImageFont\n",
    "\n",
    "    if debug: print(\"\\nDraw Character\")\n",
    "    \n",
    "    # Choose a font size that fits inside the shape's bounding box\n",
    "    font_size = int(min(bbox[2] - bbox[0], bbox[3] - bbox[1]) * char_ratio)\n",
    "    if debug: print(\"font_size = \", font_size)\n",
    "    font = ImageFont.truetype(f\"/Library/Fonts/{font_type}.ttf\", font_size)\n",
    "    \n",
    "    center_x = bbox[0] + (bbox[2] - bbox[0]) // 2\n",
    "    center_y = bbox[1] + int((bbox[3] - bbox[1]) * center_ratio)\n",
    "    if debug: print(\"center x, y =\", center_x, center_y)\n",
    "\n",
    "    # Calculate text size and position the character inside the shape\n",
    "    text_bb = draw.textbbox((center_x, center_y), character, font=font)\n",
    "    if debug: print(\"text_bbox =\", text_bb)\n",
    "\n",
    "    text_len = text_bb[2] - text_bb[0]\n",
    "    text_height = text_bb[3] - text_bb[1]\n",
    "    if debug: \n",
    "        print(f\"text (length, height) = (text_len, text_height)\")\n",
    "\n",
    "    text_left = center_x - text_len // 2\n",
    "    text_top = center_y - text_height\n",
    "    text_bb = draw.textbbox((text_left, text_top), character, font=font)\n",
    "    if debug: print(\"new text_bbox =\", text_bb)\n",
    "\n",
    "    draw.text((text_left, text_top), character, font=font, fill='black')\n",
    "\n",
    "    return text_bb\n"
   ]
  },
  {
   "cell_type": "code",
   "execution_count": 5,
   "metadata": {},
   "outputs": [
    {
     "name": "stdout",
     "output_type": "stream",
     "text": [
      "circle bounding box = (53, 53, 307, 307)\n",
      "\n",
      "Draw Character\n",
      "font_size =  190\n",
      "center x, y = 180 180\n",
      "text_bbox = (179, 248, 307, 384)\n",
      "text (length, height) = (text_len, text_height)\n",
      "new text_bbox = (115, 112, 243, 248)\n",
      "text bounding box =  (115, 112, 243, 248)\n"
     ]
    }
   ],
   "source": [
    "# Create a blank image\n",
    "img = Image.new('RGB', (image_size, image_size), color='white')\n",
    "draw = ImageDraw.Draw(img)\n",
    "\n",
    "circle_bb = draw_ellipse(draw, [image_size//2, image_size//2], shape_size)\n",
    "print(\"circle bounding box =\", circle_bb)\n",
    "\n",
    "char_bb = draw_character(draw, \"A\", circle_bb, debug=True)\n",
    "print(\"text bounding box = \", char_bb)\n",
    "\n",
    "draw.rectangle(circle_bb, outline=\"blue\")\n",
    "draw.rectangle(char_bb, outline=\"red\")\n",
    "img.show()"
   ]
  },
  {
   "cell_type": "markdown",
   "metadata": {},
   "source": [
    "### Draw a Triangle"
   ]
  },
  {
   "cell_type": "code",
   "execution_count": 6,
   "metadata": {},
   "outputs": [],
   "source": [
    "def calc_bounding_box(points: list):\n",
    "    \"\"\"Return bounding box for a list of points of (x, y)\"\"\"\n",
    "    X = [p[0] for p in points]\n",
    "    Y = [p[1] for p in points]\n",
    "    return (min(X), min(Y), max(X), max(Y))"
   ]
  },
  {
   "cell_type": "code",
   "execution_count": 7,
   "metadata": {},
   "outputs": [],
   "source": [
    "def draw_triangle(draw, center, size, outline=\"black\", width=10):\n",
    "    size = size // 2\n",
    "    points = [\n",
    "        (center[0], center[1] - size), \n",
    "        (center[0] - size, center[1] + size), \n",
    "        (center[0] + size, center[1] + size)\n",
    "    ]\n",
    "    draw.polygon(points, outline=outline, width=width)\n",
    "    return calc_bounding_box(points)"
   ]
  },
  {
   "cell_type": "code",
   "execution_count": 8,
   "metadata": {},
   "outputs": [
    {
     "name": "stdout",
     "output_type": "stream",
     "text": [
      "shape bounding box = (53, 53, 307, 307)\n",
      "text bounding box =  (125, 163, 235, 274)\n"
     ]
    }
   ],
   "source": [
    "# Create a blank image\n",
    "img = Image.new('RGB', (image_size, image_size), color='white')\n",
    "draw = ImageDraw.Draw(img)\n",
    "\n",
    "shape_bb = draw_triangle(draw, [image_size//2, image_size//2], shape_size)\n",
    "print(\"shape bounding box =\", shape_bb)\n",
    "\n",
    "char_bb = draw_character(draw, \"U\", shape_bb, center_ratio=0.66, char_ratio=0.6)\n",
    "print(\"text bounding box = \", char_bb)\n",
    "\n",
    "# draw bbox\n",
    "draw.rectangle(shape_bb, outline=\"blue\")\n",
    "draw.rectangle(char_bb, outline=\"red\")\n",
    "img.show()"
   ]
  },
  {
   "cell_type": "markdown",
   "metadata": {},
   "source": [
    "### Draw Other Shapes"
   ]
  },
  {
   "cell_type": "code",
   "execution_count": 9,
   "metadata": {},
   "outputs": [],
   "source": [
    "def draw_semicircle(draw, center, size, outline=\"black\", width=10):\n",
    "    size = size // 2\n",
    "    xy = (center[0] - size, center[1] - size // 2, center[0] + size, center[1] + size * 3 // 2)\n",
    "    draw.pieslice(xy, 180, 360, outline=outline, width=width)\n",
    "    bbox = (center[0] - size, center[1] - size // 2, center[0] + size, center[1] + size // 2)\n",
    "    return bbox"
   ]
  },
  {
   "cell_type": "code",
   "execution_count": 10,
   "metadata": {},
   "outputs": [],
   "source": [
    "# Test semicircle\n",
    "img = Image.new('RGB', (image_size, image_size), color='white')\n",
    "draw = ImageDraw.Draw(img)\n",
    "shape_bb = draw_semicircle(draw, [image_size//2, image_size//2], shape_size)\n",
    "# draw bbox\n",
    "draw.rectangle(shape_bb, outline=\"blue\")\n",
    "img.show()"
   ]
  },
  {
   "cell_type": "code",
   "execution_count": 11,
   "metadata": {},
   "outputs": [],
   "source": [
    "def draw_quarter_circle(draw, center, size, outline=\"black\", width=10):\n",
    "    size = size // 3\n",
    "    xy = (center[0] -  size * 3, center[1] - size * 3, center[0] + size, center[1] + size)\n",
    "    draw.pieslice(xy, 0, 90, outline=outline, width=width)\n",
    "    bbox = (center[0] - size, center[1] - size, center[0] + size, center[1] + size)\n",
    "    return bbox"
   ]
  },
  {
   "cell_type": "code",
   "execution_count": 12,
   "metadata": {},
   "outputs": [],
   "source": [
    "# Test quarter circle\n",
    "img = Image.new('RGB', (image_size, image_size), color='white')\n",
    "draw = ImageDraw.Draw(img)\n",
    "shape_bb = draw_quarter_circle(draw, [image_size//2, image_size//2], shape_size)\n",
    "# draw bbox\n",
    "draw.rectangle(shape_bb, outline=\"blue\")\n",
    "img.show()"
   ]
  },
  {
   "cell_type": "code",
   "execution_count": 13,
   "metadata": {},
   "outputs": [],
   "source": [
    "def draw_rectangle(draw, center, size, outline=\"black\", width=10, hw_ratio=0.66):\n",
    "    w = size // 2\n",
    "    h = int(w * hw_ratio)\n",
    "    xy = (center[0] - w, center[1] - h, center[0] + w, center[1] + h)\n",
    "    draw.rectangle(xy, outline=outline, width=width)\n",
    "    return xy"
   ]
  },
  {
   "cell_type": "code",
   "execution_count": 14,
   "metadata": {},
   "outputs": [],
   "source": [
    "# Test rectangle\n",
    "img = Image.new('RGB', (image_size, image_size), color='white')\n",
    "draw = ImageDraw.Draw(img)\n",
    "shape_bb = draw_rectangle(draw, [image_size//2, image_size//2], shape_size)\n",
    "# draw bbox\n",
    "draw.rectangle(shape_bb, outline=\"blue\")\n",
    "img.show()"
   ]
  },
  {
   "cell_type": "code",
   "execution_count": 15,
   "metadata": {},
   "outputs": [],
   "source": [
    "import math\n",
    "\n",
    "def draw_pentagon_1(draw, center, size, rotation=0, outline=\"black\", width=10):\n",
    "    radius = size // 2\n",
    "    draw.regular_polygon((center[0], center[1], radius), n_sides=5, rotation=rotation, outline=outline, width=width)\n",
    "    if rotation == 0:\n",
    "        y_max = center[1] + radius * math.sqrt(3/4)\n",
    "    else:\n",
    "        y_max = center[1] + radius\n",
    "    points = [\n",
    "        (center[0], center[1] - radius),\n",
    "        (center[0] - radius // 2, y_max),\n",
    "        (center[0] + radius // 2, y_max),\n",
    "        (center[0] - radius, center[1]),\n",
    "        (center[0] + radius, center[1]),\n",
    "    ]\n",
    "    return calc_bounding_box(points)"
   ]
  },
  {
   "cell_type": "code",
   "execution_count": 34,
   "metadata": {},
   "outputs": [],
   "source": [
    "def draw_pentagon_2(draw, center, size, outline=\"black\", width=10):\n",
    "    \"\"\"Draw pentagon with draw.polygon\"\"\"\n",
    "    radius = size // 2\n",
    "    angle = 360 / 5\n",
    "    points = []\n",
    "\n",
    "    def angle_cos_sin(angle):\n",
    "        return math.cos(math.radians(angle)), math.sin(math.radians(angle))\n",
    "\n",
    "    for i in range(5):\n",
    "        cos_angle, sin_angle = angle_cos_sin(angle * i)\n",
    "        x = int(center[0] + radius * cos_angle)\n",
    "        y = int(center[1] + radius * sin_angle)\n",
    "        points.append((x, y))\n",
    "\n",
    "    draw.polygon(points, outline=outline, width=width)\n",
    "\n",
    "    return calc_bounding_box(points)"
   ]
  },
  {
   "cell_type": "code",
   "execution_count": 32,
   "metadata": {},
   "outputs": [],
   "source": [
    "def draw_pentagon(draw, center, size, outline=\"black\", width=10):\n",
    "    return draw_pentagon_2(draw, center, size, outline, width)"
   ]
  },
  {
   "cell_type": "code",
   "execution_count": 35,
   "metadata": {},
   "outputs": [],
   "source": [
    "# Test pentagon\n",
    "img = Image.new('RGB', (image_size, image_size), color='white')\n",
    "draw = ImageDraw.Draw(img)\n",
    "shape_bb = draw_pentagon(draw, [image_size//2, image_size//2], shape_size)\n",
    "# draw bbox\n",
    "draw.rectangle(shape_bb, outline=\"blue\")\n",
    "img.show()"
   ]
  },
  {
   "cell_type": "markdown",
   "metadata": {},
   "source": [
    "#### Draw Star"
   ]
  },
  {
   "cell_type": "code",
   "execution_count": 17,
   "metadata": {},
   "outputs": [],
   "source": [
    "# placeholder for star\n",
    "def draw_star_old(draw, center, size, color=\"black\", width=10):\n",
    "    return draw_pentagon(draw, center, size, rotation=30, color=color, width=width)"
   ]
  },
  {
   "cell_type": "code",
   "execution_count": 18,
   "metadata": {},
   "outputs": [],
   "source": [
    "def draw_star(draw, center, size, fill=\"white\", outline=\"black\", width=10):\n",
    "    angle = 360 / 5\n",
    "    radius = size // 2\n",
    "    inner_radius = radius / 2  # Adjust for inner points\n",
    "    points = []\n",
    "\n",
    "    def angle_cos_sin(angle):\n",
    "        return math.cos(math.radians(angle)), math.sin(math.radians(angle))\n",
    "\n",
    "    # get five pairs of (outer, inner) points\n",
    "    for i in range(5):\n",
    "        outer_cos, outer_sin = angle_cos_sin(angle * i)\n",
    "        outer_x = int(center[0] + radius * outer_cos)\n",
    "        outer_y = int(center[1] + radius * outer_sin)\n",
    "        points.append((outer_x, outer_y))\n",
    "\n",
    "        inner_cos, inner_sin = angle_cos_sin(angle * i + angle / 2)\n",
    "        inner_x = int(center[0] + inner_radius * inner_cos)\n",
    "        inner_y = int(center[1] + inner_radius * inner_sin)\n",
    "        points.append((inner_x, inner_y))\n",
    "\n",
    "    draw.polygon(points, fill=fill, outline=outline, width=width)\n",
    "    return calc_bounding_box(points)\n"
   ]
  },
  {
   "cell_type": "code",
   "execution_count": 19,
   "metadata": {},
   "outputs": [],
   "source": [
    "# Test star\n",
    "img = Image.new('RGB', (image_size, image_size), color='white')\n",
    "draw = ImageDraw.Draw(img)\n",
    "shape_bb = draw_star(draw, [image_size//2, image_size//2], shape_size)\n",
    "draw.rectangle(shape_bb, outline=\"blue\")\n",
    "img.show()"
   ]
  },
  {
   "cell_type": "code",
   "execution_count": 20,
   "metadata": {},
   "outputs": [],
   "source": [
    "def draw_cross(draw, center, size, outline=\"black\", width=5):\n",
    "    size = size // 3\n",
    "    draw_rectangle(draw, (center[0], center[1]), size * 3, hw_ratio=1/3, outline=outline, width=width)\n",
    "    draw_rectangle(draw, (center[0], center[1]), size, hw_ratio=3, outline=outline, width=width)\n",
    "    draw_rectangle(draw, center, size, hw_ratio=1, outline=\"white\", width=10)\n",
    "    w = size * 3 // 2\n",
    "    bbox = (center[0] - w, center[1] - w, center[0] + w, center[1] + w)\n",
    "    return bbox"
   ]
  },
  {
   "cell_type": "code",
   "execution_count": 21,
   "metadata": {},
   "outputs": [],
   "source": [
    "# Test cross\n",
    "img = Image.new('RGB', (image_size, image_size), color='white')\n",
    "draw = ImageDraw.Draw(img)\n",
    "shape_bb = draw_cross(draw, [image_size//2, image_size//2], shape_size)\n",
    "draw.rectangle(shape_bb, outline=\"blue\")\n",
    "img.show()"
   ]
  },
  {
   "cell_type": "markdown",
   "metadata": {},
   "source": [
    "### Test All Shapes with Text"
   ]
  },
  {
   "cell_type": "code",
   "execution_count": 22,
   "metadata": {},
   "outputs": [],
   "source": [
    "def draw_shape(draw, shape, center, size, outline=\"black\", width=10):\n",
    "    if shape == \"circle\":\n",
    "        return draw_ellipse(draw, center, size, outline=outline, width=width)\n",
    "    elif shape == \"triangle\":\n",
    "        return draw_triangle(draw, center, size, outline=outline, width=width)\n",
    "    elif shape == \"semicircle\":\n",
    "        return draw_semicircle(draw, center, size, outline=outline, width=width)\n",
    "    elif shape == \"quarter_circle\":\n",
    "        return draw_quarter_circle(draw, center, size, outline=outline, width=width)\n",
    "    elif shape == \"rectangle\":\n",
    "        return draw_rectangle(draw, center, size, outline=outline, width=width)\n",
    "    elif shape == \"pentagon\":\n",
    "        return draw_pentagon(draw, center, size, outline=outline, width=width)\n",
    "    elif shape == \"star\":\n",
    "        return draw_star(draw, center, size, outline=outline, width=width)\n",
    "    elif shape == \"cross\":\n",
    "        return draw_cross(draw, center, size, outline=outline, width=width)\n",
    "    else:\n",
    "        print(f\"{shape} is not supported. SKIP\")"
   ]
  },
  {
   "cell_type": "code",
   "execution_count": 23,
   "metadata": {},
   "outputs": [],
   "source": [
    "def draw_shape_with_letter(shape, letter, text_ratio=0.75, outline=\"black\", width=10, debug=False):\n",
    "    # Create a blank image\n",
    "    img = Image.new('RGB', (image_size, image_size), color='white')\n",
    "    draw = ImageDraw.Draw(img)\n",
    "\n",
    "    if debug:\n",
    "        print(\"Draw\", shape, letter)\n",
    "    \n",
    "    shape_bb = draw_shape(draw, shape, [image_size//2, image_size//2], shape_size, outline=outline, width=width)\n",
    "    if debug:\n",
    "        print(\"shape bounding box =\", shape_bb)\n",
    "        draw_rectangle(shape_bb, outline=\"blue\")\n",
    "\n",
    "    center_ratio = 0.66 if shape == \"triangle\" else 0.5\n",
    "    text_bb = draw_character(draw, letter, shape_bb, center_ratio=center_ratio, char_ratio=text_ratio)\n",
    "    if debug:\n",
    "        print(\"text bounding box = \", text_bb)\n",
    "        draw_rectangle(text_bb, outline=\"red\")\n",
    "\n",
    "    img.show()"
   ]
  },
  {
   "cell_type": "code",
   "execution_count": 24,
   "metadata": {},
   "outputs": [],
   "source": [
    "# Test with various shapes\n",
    "shapes = ['circle', 'semicircle', 'quarter_circle', 'triangle', 'rectangle', 'pentagon', 'star', 'cross']\n",
    "letters = ['A', 'U', 'L', 'J']\n",
    "for shape in shapes[-2:-1]:\n",
    "    for letter in letters:\n",
    "        draw_shape_with_letter(shape, letter, text_ratio=0.5)"
   ]
  },
  {
   "cell_type": "markdown",
   "metadata": {},
   "source": [
    "### Rotate Image"
   ]
  },
  {
   "cell_type": "code",
   "execution_count": 25,
   "metadata": {},
   "outputs": [],
   "source": [
    "import numpy as np\n",
    "\n",
    "def rotate_points(points, angle, center=(0, 0)):\n",
    "    \"\"\"Rotates a list of points around a given center.\"\"\"\n",
    "    angle = -angle\n",
    "    cos_theta = np.cos(np.radians(angle))\n",
    "    sin_theta = np.sin(np.radians(angle))\n",
    "    rotated_points = []\n",
    "    for x, y in points:\n",
    "        x_diff = x - center[0]\n",
    "        y_diff = y - center[1]\n",
    "        x_new = x_diff * cos_theta - y_diff * sin_theta\n",
    "        y_new = x_diff * sin_theta + y_diff * cos_theta\n",
    "        x_new += center[0]\n",
    "        y_new += center[1]\n",
    "        rotated_points.append((x_new, y_new))\n",
    "    return rotated_points"
   ]
  },
  {
   "cell_type": "code",
   "execution_count": 26,
   "metadata": {},
   "outputs": [
    {
     "name": "stdout",
     "output_type": "stream",
     "text": [
      "[(52.72077938642144, 180.0), (180.0, 307.27922061357856), (180.0, 52.72077938642144), (307.27922061357856, 180.0)]\n",
      "(52.72077938642144, 52.72077938642144, 307.27922061357856, 307.27922061357856)\n"
     ]
    }
   ],
   "source": [
    "points = [(90, 90), (90, 270), (270, 90), (270, 270)]\n",
    "rotated_points = rotate_points(points, 45, (180, 180))\n",
    "print(rotated_points)\n",
    "print(calc_bounding_box(rotated_points))"
   ]
  },
  {
   "cell_type": "code",
   "execution_count": 27,
   "metadata": {},
   "outputs": [],
   "source": [
    "def rotate_bbox(bbox, angle, img_size):\n",
    "    import numpy as np\n",
    "    \n",
    "    print(\"\\nRotate\")\n",
    "    print(\"input bbox =\", bbox)\n",
    "\n",
    "    img_center = (img_size / 2, img_size / 2)\n",
    "    print(f\"img_center = {img_center}\")\n",
    "\n",
    "    # Convert the four points of bbox\n",
    "    x_min, y_min, x_max, y_max = bbox\n",
    "    points = [(x_min, y_min), (x_min, y_max), (x_max, y_min), (x_max, y_max)]\n",
    "    new_bbox = calc_bounding_box(rotate_points(points, angle, img_center))\n",
    "    print(f\"rotated bbox = {new_bbox}\")\n",
    "\n",
    "    return new_bbox"
   ]
  },
  {
   "cell_type": "markdown",
   "metadata": {},
   "source": [
    "#### Test Rotate"
   ]
  },
  {
   "cell_type": "code",
   "execution_count": 28,
   "metadata": {},
   "outputs": [
    {
     "name": "stdout",
     "output_type": "stream",
     "text": [
      "image_size = 360, shape_size = 180.0\n",
      "offset = -1\n",
      "shape bounding box = (119.0, 119.0, 239.0, 239.0)\n",
      "char_ratio = 0.48\n",
      "text bounding box =  (159.0, 177.0, 200.0, 218.0)\n",
      "\n",
      "Rotate\n",
      "input bbox = (119.0, 119.0, 239.0, 239.0)\n",
      "img_center = (180.0, 180.0)\n",
      "rotated bbox = (93.73297269524122, 95.1471862576143, 263.4386001800126, 264.8528137423857)\n",
      "\n",
      "Rotate\n",
      "input bbox = (159.0, 177.0, 200.0, 218.0)\n",
      "img_center = (180.0, 180.0)\n",
      "rotated bbox = (163.02943725152286, 163.73654403270942, 221.01219330881975, 221.7193000900063)\n"
     ]
    }
   ],
   "source": [
    "import numpy as np\n",
    "\n",
    "image_size = 360\n",
    "shape_size = image_size * 0.5\n",
    "print(f\"image_size = {image_size}, shape_size = {shape_size}\")\n",
    "\n",
    "# Create a blank image\n",
    "img = Image.new('RGB', (image_size, image_size), color='white')\n",
    "draw = ImageDraw.Draw(img)\n",
    "\n",
    "offset = int(np.random.uniform(-image_size//10, image_size//10))\n",
    "print(\"offset =\", offset)\n",
    "center = [image_size//2 + offset, image_size//2 + offset]\n",
    "shape_bb = draw_quarter_circle(draw, center, shape_size)\n",
    "print(\"shape bounding box =\", shape_bb)\n",
    "\n",
    "char_ratio = random.randint(40, 70) / 100\n",
    "print(\"char_ratio =\", char_ratio)\n",
    "char_bb = draw_character(draw, \"U\", shape_bb, center_ratio=0.66, char_ratio=char_ratio)\n",
    "print(\"text bounding box = \", char_bb)\n",
    "#img.show()\n",
    "\n",
    "# rotate\n",
    "angle = 45\n",
    "img = img.rotate(angle, expand=False, fillcolor='white')\n",
    "img.show()\n",
    "rotated_shape_bbox = rotate_bbox(shape_bb, angle, image_size)\n",
    "rotated_char_bbox = rotate_bbox(char_bb, angle, image_size)\n",
    "\n",
    "# draw bbox\n",
    "img = Image.new('RGB', (image_size, image_size), color='white')\n",
    "draw = ImageDraw.Draw(img)\n",
    "draw.rectangle(rotated_shape_bbox, outline=\"blue\")\n",
    "draw.rectangle(rotated_char_bbox, outline=\"red\")\n",
    "img.show()"
   ]
  },
  {
   "cell_type": "markdown",
   "metadata": {},
   "source": [
    "### Convert bounding box to YOLO format"
   ]
  },
  {
   "cell_type": "code",
   "execution_count": 29,
   "metadata": {},
   "outputs": [],
   "source": [
    "# Normalize bounding box for the YOLO label format\n",
    "def normalize_bbox(bb, img_size):\n",
    "    x_center = (bb[0] + bb[2]) / 2.0 / img_size\n",
    "    y_center = (bb[1] + bb[3]) / 2.0 / img_size\n",
    "    width = (bb[2] - bb[0]) / img_size\n",
    "    height = (bb[3] - bb[1]) / img_size\n",
    "    return x_center, y_center, width, height"
   ]
  },
  {
   "cell_type": "code",
   "execution_count": 30,
   "metadata": {},
   "outputs": [
    {
     "name": "stdout",
     "output_type": "stream",
     "text": [
      "(0.49607162899340806, 0.5, 0.4714045207910316, 0.4714045207910317)\n",
      "(0.5333911535560314, 0.5353553390593273, 0.16106321127026912, 0.16106321127026912)\n"
     ]
    }
   ],
   "source": [
    "# Test\n",
    "print(normalize_bbox(rotated_shape_bbox, image_size))\n",
    "print(normalize_bbox(rotated_char_bbox, image_size))"
   ]
  }
 ],
 "metadata": {
  "kernelspec": {
   "display_name": "Python 3",
   "language": "python",
   "name": "python3"
  },
  "language_info": {
   "codemirror_mode": {
    "name": "ipython",
    "version": 3
   },
   "file_extension": ".py",
   "mimetype": "text/x-python",
   "name": "python",
   "nbconvert_exporter": "python",
   "pygments_lexer": "ipython3",
   "version": "3.12.6"
  }
 },
 "nbformat": 4,
 "nbformat_minor": 2
}
