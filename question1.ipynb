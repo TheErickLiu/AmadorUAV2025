{
 "cells": [
  {
   "cell_type": "markdown",
   "metadata": {},
   "source": [
    "# Question 1: Find the Center\n",
    "\n",
    "One of the software division’s primary tasks is localizing the GPS positions of ODLCs,\n",
    "which are ground markers, to indicate where payload drops should occur. As part of the\n",
    "competition, we autonomously identify and localize these objects on the ground using a\n",
    "downward-facing camera and a YOLOv8 image segmentation model. We take and\n",
    "process pictures every 50 milliseconds, giving us hundreds of ODLC position estimates\n",
    "that must be condensed into 5 unique collections. Lastly, in the competition, there are\n",
    "emergent objects that may be accidentally identified as an ODLC in the airdrop zone;\n",
    "these outliers greatly skew the center of the collections away from the “true” position.\n",
    "\n",
    "#### Task\n",
    "- Find the centroid of every collection, representing the “best” \n",
    "possible estimate of the ODLC’s position given N-ordered pairs \n",
    "describing (latitude, longitude) points.\n",
    "\n",
    "- Filter out outliers as best as possible \n",
    "(note: It does not be the same as mine for every test case) \n",
    "(hint: Google!!)\n",
    "\n",
    "#### Restrictions\n",
    "Don’t use non-standard libraries except `pandas`, `sci-kit-learn`, \n",
    "`numpy`, `matplotlib`, and `geopandas`\n",
    "\n",
    "#### File Input Format\n",
    "The first line of input contains 𝑁 followed by 𝑁 lines with \n",
    "𝑙𝑎𝑡𝑖𝑡𝑢𝑑𝑒, 𝑙𝑜𝑛𝑔𝑖𝑡𝑢𝑑𝑒 separated by spaces of each point.\n",
    "\n",
    "#### File Output Format\n",
    "Output 5 lines, each with the identified center 𝑙𝑎𝑡𝑖𝑡𝑢𝑑𝑒, 𝑙𝑜𝑛𝑔𝑖𝑡𝑢𝑑𝑒 \n",
    "rounded to 5 decimal places separated by spaces of each point. \n",
    "\n",
    "The coordinates do not have to match the ones provided exactly, \n",
    "but they should be within 20ft or 0.0038mi away."
   ]
  },
  {
   "cell_type": "markdown",
   "metadata": {},
   "source": [
    "### Start with No Outliers"
   ]
  },
  {
   "cell_type": "markdown",
   "metadata": {},
   "source": [
    "#### 1. Load Inputs"
   ]
  },
  {
   "cell_type": "code",
   "execution_count": 43,
   "metadata": {},
   "outputs": [
    {
     "data": {
      "text/html": [
       "<div>\n",
       "<style scoped>\n",
       "    .dataframe tbody tr th:only-of-type {\n",
       "        vertical-align: middle;\n",
       "    }\n",
       "\n",
       "    .dataframe tbody tr th {\n",
       "        vertical-align: top;\n",
       "    }\n",
       "\n",
       "    .dataframe thead th {\n",
       "        text-align: right;\n",
       "    }\n",
       "</style>\n",
       "<table border=\"1\" class=\"dataframe\">\n",
       "  <thead>\n",
       "    <tr style=\"text-align: right;\">\n",
       "      <th></th>\n",
       "      <th>latitude</th>\n",
       "      <th>longitude</th>\n",
       "    </tr>\n",
       "  </thead>\n",
       "  <tbody>\n",
       "    <tr>\n",
       "      <th>0</th>\n",
       "      <td>37.682009</td>\n",
       "      <td>-121.892674</td>\n",
       "    </tr>\n",
       "    <tr>\n",
       "      <th>1</th>\n",
       "      <td>37.682212</td>\n",
       "      <td>-121.892932</td>\n",
       "    </tr>\n",
       "    <tr>\n",
       "      <th>2</th>\n",
       "      <td>37.682222</td>\n",
       "      <td>-121.892216</td>\n",
       "    </tr>\n",
       "    <tr>\n",
       "      <th>3</th>\n",
       "      <td>37.681791</td>\n",
       "      <td>-121.892456</td>\n",
       "    </tr>\n",
       "    <tr>\n",
       "      <th>4</th>\n",
       "      <td>37.681597</td>\n",
       "      <td>-121.892582</td>\n",
       "    </tr>\n",
       "    <tr>\n",
       "      <th>...</th>\n",
       "      <td>...</td>\n",
       "      <td>...</td>\n",
       "    </tr>\n",
       "    <tr>\n",
       "      <th>500</th>\n",
       "      <td>37.681969</td>\n",
       "      <td>-121.892754</td>\n",
       "    </tr>\n",
       "    <tr>\n",
       "      <th>501</th>\n",
       "      <td>37.682232</td>\n",
       "      <td>-121.892912</td>\n",
       "    </tr>\n",
       "    <tr>\n",
       "      <th>502</th>\n",
       "      <td>37.682242</td>\n",
       "      <td>-121.892196</td>\n",
       "    </tr>\n",
       "    <tr>\n",
       "      <th>503</th>\n",
       "      <td>37.681811</td>\n",
       "      <td>-121.892516</td>\n",
       "    </tr>\n",
       "    <tr>\n",
       "      <th>504</th>\n",
       "      <td>37.681637</td>\n",
       "      <td>-121.892602</td>\n",
       "    </tr>\n",
       "  </tbody>\n",
       "</table>\n",
       "<p>505 rows × 2 columns</p>\n",
       "</div>"
      ],
      "text/plain": [
       "      latitude   longitude\n",
       "0    37.682009 -121.892674\n",
       "1    37.682212 -121.892932\n",
       "2    37.682222 -121.892216\n",
       "3    37.681791 -121.892456\n",
       "4    37.681597 -121.892582\n",
       "..         ...         ...\n",
       "500  37.681969 -121.892754\n",
       "501  37.682232 -121.892912\n",
       "502  37.682242 -121.892196\n",
       "503  37.681811 -121.892516\n",
       "504  37.681637 -121.892602\n",
       "\n",
       "[505 rows x 2 columns]"
      ]
     },
     "execution_count": 43,
     "metadata": {},
     "output_type": "execute_result"
    }
   ],
   "source": [
    "import pandas as pd\n",
    "\n",
    "filename = \"no outliers.txt\"\n",
    "df = pd.read_csv(filename, sep=' ', skiprows=1, header=None, names=[\"latitude\", \"longitude\"])\n",
    "df"
   ]
  },
  {
   "cell_type": "markdown",
   "metadata": {},
   "source": [
    "#### 2. Display the data"
   ]
  },
  {
   "cell_type": "code",
   "execution_count": 2,
   "metadata": {},
   "outputs": [
    {
     "name": "stderr",
     "output_type": "stream",
     "text": [
      "Matplotlib is building the font cache; this may take a moment.\n"
     ]
    },
    {
     "data": {
      "text/plain": [
       "<matplotlib.collections.PathCollection at 0x1305f3ad0>"
      ]
     },
     "execution_count": 2,
     "metadata": {},
     "output_type": "execute_result"
    },
    {
     "data": {
      "image/png": "[encoded data removed]",
      "text/plain": [
       "<Figure size 640x480 with 1 Axes>"
      ]
     },
     "metadata": {},
     "output_type": "display_data"
    }
   ],
   "source": [
    "import matplotlib.pyplot as plt\n",
    "\n",
    "plt.scatter(data=df, x=\"longitude\", y=\"latitude\")"
   ]
  },
  {
   "cell_type": "markdown",
   "metadata": {},
   "source": [
    "#### 3. Clustering\n",
    "\n",
    "User Guide: https://scikit-learn.org/stable/modules/clustering.html\n",
    "\n",
    "| Method name | Parameters | Scalability | Usecase | Geometry (metric used) |\n",
    "| --- | --- | --- | --- | --- |\n",
    "| K-Means | number of clusters | Very large n_samples, medium n_clusters with MiniBatch code | General-purpose, even cluster size, flat geometry, not too many clusters, inductive | Distances between points |\n",
    "\n",
    "So we can use `K-means Clustering`:\n",
    "- API: https://scikit-learn.org/stable/modules/generated/sklearn.cluster.KMeans.html\n"
   ]
  },
  {
   "cell_type": "code",
   "execution_count": 9,
   "metadata": {},
   "outputs": [],
   "source": [
    "from sklearn.cluster import KMeans\n",
    "\n",
    "# train with 5 clusters\n",
    "k_means = KMeans(n_clusters=5, random_state=0, n_init=\"auto\").fit(df)"
   ]
  },
  {
   "cell_type": "code",
   "execution_count": 10,
   "metadata": {},
   "outputs": [
    {
     "data": {
      "text/plain": [
       "array([2, 3, 0, 4, 1, 2, 3, 0, 4, 1, 2, 3, 0, 4, 1, 2, 3, 0, 4, 1, 2, 3,\n",
       "       0, 4, 1, 2, 3, 0, 4, 1, 2, 3, 0, 4, 1, 2, 3, 0, 4, 1, 2, 3, 0, 4,\n",
       "       1, 2, 3, 0, 4, 1, 2, 3, 0, 4, 1, 2, 3, 0, 4, 1, 2, 3, 0, 4, 1, 2,\n",
       "       3, 0, 4, 1, 2, 3, 0, 4, 1, 2, 3, 0, 4, 1, 2, 3, 0, 4, 1, 2, 3, 0,\n",
       "       4, 1, 2, 3, 0, 4, 1, 2, 3, 0, 4, 1, 2, 3, 0, 4, 1, 2, 3, 0, 4, 1,\n",
       "       2, 3, 0, 4, 1, 2, 3, 0, 4, 1, 2, 3, 0, 4, 1, 2, 3, 0, 4, 1, 2, 3,\n",
       "       0, 4, 1, 2, 3, 0, 4, 1, 2, 3, 0, 4, 1, 2, 3, 0, 4, 1, 2, 3, 0, 4,\n",
       "       1, 2, 3, 0, 4, 1, 2, 3, 0, 4, 1, 2, 3, 0, 4, 1, 2, 3, 0, 4, 1, 2,\n",
       "       3, 0, 4, 1, 2, 3, 0, 4, 1, 2, 3, 0, 4, 1, 2, 3, 0, 4, 1, 2, 3, 0,\n",
       "       4, 1, 2, 3, 0, 4, 1, 2, 3, 0, 4, 1, 2, 3, 0, 4, 1, 2, 3, 0, 4, 1,\n",
       "       2, 3, 0, 4, 1, 2, 3, 0, 4, 1, 2, 3, 0, 4, 1, 2, 3, 0, 4, 1, 2, 3,\n",
       "       0, 4, 1, 2, 3, 0, 4, 1, 2, 3, 0, 4, 1, 2, 3, 0, 4, 1, 2, 3, 0, 4,\n",
       "       1, 2, 3, 0, 4, 1, 2, 3, 0, 4, 1, 2, 3, 0, 4, 1, 2, 3, 0, 4, 1, 2,\n",
       "       3, 0, 4, 1, 2, 3, 0, 4, 1, 2, 3, 0, 4, 1, 2, 3, 0, 4, 1, 2, 3, 0,\n",
       "       4, 1, 2, 3, 0, 4, 1, 2, 3, 0, 4, 1, 2, 3, 0, 4, 1, 2, 3, 0, 4, 1,\n",
       "       2, 3, 0, 4, 1, 2, 3, 0, 4, 1, 2, 3, 0, 4, 1, 2, 3, 0, 4, 1, 2, 3,\n",
       "       0, 4, 1, 2, 3, 0, 4, 1, 2, 3, 0, 4, 1, 2, 3, 0, 4, 1, 2, 3, 0, 4,\n",
       "       1, 2, 3, 0, 4, 1, 2, 3, 0, 4, 1, 2, 3, 0, 4, 1, 2, 3, 0, 4, 1, 2,\n",
       "       3, 0, 4, 1, 2, 3, 0, 4, 1, 2, 3, 0, 4, 1, 2, 3, 0, 4, 1, 2, 3, 0,\n",
       "       4, 1, 2, 3, 0, 4, 1, 2, 3, 0, 4, 1, 2, 3, 0, 4, 1, 2, 3, 0, 4, 1,\n",
       "       2, 3, 0, 4, 1, 2, 3, 0, 4, 1, 2, 3, 0, 4, 1, 2, 3, 0, 4, 1, 2, 3,\n",
       "       0, 4, 1, 2, 3, 0, 4, 1, 2, 3, 0, 4, 1, 2, 3, 0, 4, 1, 2, 3, 0, 4,\n",
       "       1, 2, 3, 0, 4, 1, 2, 3, 0, 4, 1, 2, 3, 0, 4, 1, 2, 3, 0, 4, 1],\n",
       "      dtype=int32)"
      ]
     },
     "execution_count": 10,
     "metadata": {},
     "output_type": "execute_result"
    }
   ],
   "source": [
    "# show the cluster labels\n",
    "k_means.labels_"
   ]
  },
  {
   "cell_type": "code",
   "execution_count": 11,
   "metadata": {},
   "outputs": [
    {
     "data": {
      "text/plain": [
       "array([[  37.68221769, -121.8922017 ],\n",
       "       [  37.68160787, -121.89259638],\n",
       "       [  37.6819873 , -121.89271478],\n",
       "       [  37.68222094, -121.89292734],\n",
       "       [  37.68178639, -121.89250763]])"
      ]
     },
     "execution_count": 11,
     "metadata": {},
     "output_type": "execute_result"
    }
   ],
   "source": [
    "# show the cluster centers\n",
    "k_means.cluster_centers_"
   ]
  },
  {
   "cell_type": "markdown",
   "metadata": {},
   "source": [
    "#### Plot as Cluster"
   ]
  },
  {
   "cell_type": "code",
   "execution_count": 12,
   "metadata": {},
   "outputs": [],
   "source": [
    "df[\"cluster\"] = k_means.labels_"
   ]
  },
  {
   "cell_type": "code",
   "execution_count": 13,
   "metadata": {},
   "outputs": [
    {
     "data": {
      "text/plain": [
       "<matplotlib.collections.PathCollection at 0x148223bf0>"
      ]
     },
     "execution_count": 13,
     "metadata": {},
     "output_type": "execute_result"
    },
    {
     "data": {
      "image/png": "[encoded data removed]",
      "text/plain": [
       "<Figure size 640x480 with 1 Axes>"
      ]
     },
     "metadata": {},
     "output_type": "display_data"
    }
   ],
   "source": [
    "plt.scatter(data=df, x=\"longitude\", y=\"latitude\", c=\"cluster\")"
   ]
  },
  {
   "cell_type": "markdown",
   "metadata": {},
   "source": [
    "### Now with Outliers"
   ]
  },
  {
   "cell_type": "code",
   "execution_count": 30,
   "metadata": {},
   "outputs": [
    {
     "data": {
      "text/html": [
       "<div>\n",
       "<style scoped>\n",
       "    .dataframe tbody tr th:only-of-type {\n",
       "        vertical-align: middle;\n",
       "    }\n",
       "\n",
       "    .dataframe tbody tr th {\n",
       "        vertical-align: top;\n",
       "    }\n",
       "\n",
       "    .dataframe thead th {\n",
       "        text-align: right;\n",
       "    }\n",
       "</style>\n",
       "<table border=\"1\" class=\"dataframe\">\n",
       "  <thead>\n",
       "    <tr style=\"text-align: right;\">\n",
       "      <th></th>\n",
       "      <th>latitude</th>\n",
       "      <th>longitude</th>\n",
       "    </tr>\n",
       "  </thead>\n",
       "  <tbody>\n",
       "    <tr>\n",
       "      <th>0</th>\n",
       "      <td>37.682009</td>\n",
       "      <td>-121.892674</td>\n",
       "    </tr>\n",
       "    <tr>\n",
       "      <th>1</th>\n",
       "      <td>37.682212</td>\n",
       "      <td>-121.892932</td>\n",
       "    </tr>\n",
       "    <tr>\n",
       "      <th>2</th>\n",
       "      <td>37.682222</td>\n",
       "      <td>-121.892216</td>\n",
       "    </tr>\n",
       "    <tr>\n",
       "      <th>3</th>\n",
       "      <td>37.681791</td>\n",
       "      <td>-121.892456</td>\n",
       "    </tr>\n",
       "    <tr>\n",
       "      <th>4</th>\n",
       "      <td>37.681597</td>\n",
       "      <td>-121.892582</td>\n",
       "    </tr>\n",
       "    <tr>\n",
       "      <th>...</th>\n",
       "      <td>...</td>\n",
       "      <td>...</td>\n",
       "    </tr>\n",
       "    <tr>\n",
       "      <th>500</th>\n",
       "      <td>37.681969</td>\n",
       "      <td>-121.892754</td>\n",
       "    </tr>\n",
       "    <tr>\n",
       "      <th>501</th>\n",
       "      <td>37.682232</td>\n",
       "      <td>-121.892912</td>\n",
       "    </tr>\n",
       "    <tr>\n",
       "      <th>502</th>\n",
       "      <td>37.682242</td>\n",
       "      <td>-121.892196</td>\n",
       "    </tr>\n",
       "    <tr>\n",
       "      <th>503</th>\n",
       "      <td>37.681811</td>\n",
       "      <td>-121.892516</td>\n",
       "    </tr>\n",
       "    <tr>\n",
       "      <th>504</th>\n",
       "      <td>37.681637</td>\n",
       "      <td>-121.892602</td>\n",
       "    </tr>\n",
       "  </tbody>\n",
       "</table>\n",
       "<p>505 rows × 2 columns</p>\n",
       "</div>"
      ],
      "text/plain": [
       "      latitude   longitude\n",
       "0    37.682009 -121.892674\n",
       "1    37.682212 -121.892932\n",
       "2    37.682222 -121.892216\n",
       "3    37.681791 -121.892456\n",
       "4    37.681597 -121.892582\n",
       "..         ...         ...\n",
       "500  37.681969 -121.892754\n",
       "501  37.682232 -121.892912\n",
       "502  37.682242 -121.892196\n",
       "503  37.681811 -121.892516\n",
       "504  37.681637 -121.892602\n",
       "\n",
       "[505 rows x 2 columns]"
      ]
     },
     "execution_count": 30,
     "metadata": {},
     "output_type": "execute_result"
    }
   ],
   "source": [
    "# Load the data\n",
    "import pandas as pd\n",
    "\n",
    "filename = \"no outliers.txt\"\n",
    "outlier_df = pd.read_csv(filename, sep=' ', skiprows=1, header=None, names=[\"latitude\", \"longitude\"])\n",
    "outlier_df"
   ]
  },
  {
   "cell_type": "code",
   "execution_count": 31,
   "metadata": {},
   "outputs": [
    {
     "data": {
      "text/plain": [
       "<matplotlib.collections.PathCollection at 0x14879da60>"
      ]
     },
     "execution_count": 31,
     "metadata": {},
     "output_type": "execute_result"
    },
    {
     "data": {
      "image/png": "[encoded data removed]",
      "text/plain": [
       "<Figure size 640x480 with 1 Axes>"
      ]
     },
     "metadata": {},
     "output_type": "display_data"
    }
   ],
   "source": [
    "import matplotlib.pyplot as plt\n",
    "\n",
    "plt.scatter(data=outlier_df, x=\"longitude\", y=\"latitude\")"
   ]
  },
  {
   "cell_type": "code",
   "execution_count": 32,
   "metadata": {},
   "outputs": [
    {
     "data": {
      "text/plain": [
       "array([2, 3, 0, 4, 1, 2, 3, 0, 4, 1, 2, 3, 0, 4, 1, 2, 3, 0, 4, 1, 2, 3,\n",
       "       0, 4, 1, 2, 3, 0, 4, 1, 2, 3, 0, 4, 1, 2, 3, 0, 4, 1, 2, 3, 0, 4,\n",
       "       1, 2, 3, 0, 4, 1, 2, 3, 0, 4, 1, 2, 3, 0, 4, 1, 2, 3, 0, 4, 1, 2,\n",
       "       3, 0, 4, 1, 2, 3, 0, 4, 1, 2, 3, 0, 4, 1, 2, 3, 0, 4, 1, 2, 3, 0,\n",
       "       4, 1, 2, 3, 0, 4, 1, 2, 3, 0, 4, 1, 2, 3, 0, 4, 1, 2, 3, 0, 4, 1,\n",
       "       2, 3, 0, 4, 1, 2, 3, 0, 4, 1, 2, 3, 0, 4, 1, 2, 3, 0, 4, 1, 2, 3,\n",
       "       0, 4, 1, 2, 3, 0, 4, 1, 2, 3, 0, 4, 1, 2, 3, 0, 4, 1, 2, 3, 0, 4,\n",
       "       1, 2, 3, 0, 4, 1, 2, 3, 0, 4, 1, 2, 3, 0, 4, 1, 2, 3, 0, 4, 1, 2,\n",
       "       3, 0, 4, 1, 2, 3, 0, 4, 1, 2, 3, 0, 4, 1, 2, 3, 0, 4, 1, 2, 3, 0,\n",
       "       4, 1, 2, 3, 0, 4, 1, 2, 3, 0, 4, 1, 2, 3, 0, 4, 1, 2, 3, 0, 4, 1,\n",
       "       2, 3, 0, 4, 1, 2, 3, 0, 4, 1, 2, 3, 0, 4, 1, 2, 3, 0, 4, 1, 2, 3,\n",
       "       0, 4, 1, 2, 3, 0, 4, 1, 2, 3, 0, 4, 1, 2, 3, 0, 4, 1, 2, 3, 0, 4,\n",
       "       1, 2, 3, 0, 4, 1, 2, 3, 0, 4, 1, 2, 3, 0, 4, 1, 2, 3, 0, 4, 1, 2,\n",
       "       3, 0, 4, 1, 2, 3, 0, 4, 1, 2, 3, 0, 4, 1, 2, 3, 0, 4, 1, 2, 3, 0,\n",
       "       4, 1, 2, 3, 0, 4, 1, 2, 3, 0, 4, 1, 2, 3, 0, 4, 1, 2, 3, 0, 4, 1,\n",
       "       2, 3, 0, 4, 1, 2, 3, 0, 4, 1, 2, 3, 0, 4, 1, 2, 3, 0, 4, 1, 2, 3,\n",
       "       0, 4, 1, 2, 3, 0, 4, 1, 2, 3, 0, 4, 1, 2, 3, 0, 4, 1, 2, 3, 0, 4,\n",
       "       1, 2, 3, 0, 4, 1, 2, 3, 0, 4, 1, 2, 3, 0, 4, 1, 2, 3, 0, 4, 1, 2,\n",
       "       3, 0, 4, 1, 2, 3, 0, 4, 1, 2, 3, 0, 4, 1, 2, 3, 0, 4, 1, 2, 3, 0,\n",
       "       4, 1, 2, 3, 0, 4, 1, 2, 3, 0, 4, 1, 2, 3, 0, 4, 1, 2, 3, 0, 4, 1,\n",
       "       2, 3, 0, 4, 1, 2, 3, 0, 4, 1, 2, 3, 0, 4, 1, 2, 3, 0, 4, 1, 2, 3,\n",
       "       0, 4, 1, 2, 3, 0, 4, 1, 2, 3, 0, 4, 1, 2, 3, 0, 4, 1, 2, 3, 0, 4,\n",
       "       1, 2, 3, 0, 4, 1, 2, 3, 0, 4, 1, 2, 3, 0, 4, 1, 2, 3, 0, 4, 1],\n",
       "      dtype=int32)"
      ]
     },
     "execution_count": 32,
     "metadata": {},
     "output_type": "execute_result"
    }
   ],
   "source": [
    "from sklearn.cluster import KMeans\n",
    "\n",
    "# train with 5 clusters\n",
    "outlier_kmeans = KMeans(n_clusters=5, random_state=0, n_init=\"auto\").fit(outlier_df)\n",
    "outlier_kmeans.labels_"
   ]
  },
  {
   "cell_type": "code",
   "execution_count": 33,
   "metadata": {},
   "outputs": [
    {
     "data": {
      "text/plain": [
       "<matplotlib.collections.PathCollection at 0x1488c0b90>"
      ]
     },
     "execution_count": 33,
     "metadata": {},
     "output_type": "execute_result"
    },
    {
     "data": {
      "image/png": "[encoded data removed]",
      "text/plain": [
       "<Figure size 640x480 with 1 Axes>"
      ]
     },
     "metadata": {},
     "output_type": "display_data"
    }
   ],
   "source": [
    "import matplotlib.pyplot as plt\n",
    "\n",
    "# Look at the cluster\n",
    "outlier_df[\"cluster\"] = outlier_kmeans.labels_\n",
    "plt.scatter(data=outlier_df, x=\"longitude\", y=\"latitude\", c=\"cluster\")"
   ]
  },
  {
   "cell_type": "markdown",
   "metadata": {},
   "source": [
    "The cluster doesn't look right due to the outliers. We need to remove the outliers."
   ]
  },
  {
   "cell_type": "markdown",
   "metadata": {},
   "source": [
    "#### Detect Outliers\n",
    "https://scikit-learn.org/stable/modules/outlier_detection.html\n",
    "\n",
    "LocalOutlierFactor: https://scikit-learn.org/stable/modules/generated/sklearn.neighbors.LocalOutlierFactor.html#sklearn.neighbors.LocalOutlierFactor"
   ]
  },
  {
   "cell_type": "code",
   "execution_count": 34,
   "metadata": {},
   "outputs": [
    {
     "data": {
      "text/plain": [
       "array([-1.25216634, -0.9770487 , -0.99250523, -1.17476876, -0.99025673,\n",
       "       -1.0346788 , -1.00952195, -0.99898548, -1.11913296, -0.97889344,\n",
       "       -0.99752388, -0.98830058, -1.00182222, -1.06954693, -0.96061838,\n",
       "       -0.9705188 , -1.00952195, -0.99695645, -1.22180025, -0.98426591,\n",
       "       -1.08052553, -0.98830058, -0.96512207, -1.1297428 , -0.96061838,\n",
       "       -0.9705188 , -1.00952195, -0.99898548, -0.97789429, -0.98426591,\n",
       "       -1.04917452, -0.9770487 , -0.96512207, -1.02886456, -1.02905229,\n",
       "       -0.9705188 , -1.00167335, -0.99898548, -0.97789429, -0.98426591,\n",
       "       -0.99025996, -0.98087391, -0.96512207, -0.95489552, -0.96061838,\n",
       "       -0.9705188 , -1.16131145, -0.99898548, -1.05622896, -0.97889344,\n",
       "       -1.04917452, -1.14546753, -0.96512207, -1.29781825, -1.01217197,\n",
       "       -0.95851924, -1.00167335, -1.05064869, -1.05622896, -1.00603503,\n",
       "       -0.98746721, -0.9770487 , -1.10991242, -0.95489552, -0.95000029,\n",
       "       -0.9701698 , -1.        , -0.99695645, -1.04749423, -1.04426329,\n",
       "       -0.98746721, -0.98830058, -1.00182222, -1.02886456, -0.95000029,\n",
       "       -0.98534825, -1.03816692, -0.99540489, -0.92440755, -0.97889344,\n",
       "       -1.03506104, -0.98830058, -1.03418342, -1.01153166, -0.95000029,\n",
       "       -0.95851924, -1.        , -1.30256625, -0.99018432, -1.00603503,\n",
       "       -0.98746721, -0.98830058, -1.03418342, -1.01153166, -0.99325176,\n",
       "       -0.98534825, -1.02331945, -0.99540489, -1.03401795, -1.38309661,\n",
       "       -0.98746721, -0.97952602, -0.99250523, -1.53039933, -1.9843507 ,\n",
       "       -1.62277001, -1.17360925, -0.99540489, -1.29324066, -1.35830322,\n",
       "       -1.28307777, -0.94044414, -1.        , -1.14004542, -0.95000029,\n",
       "       -1.10759376, -1.00952195, -0.99540489, -1.11913296, -0.98426591,\n",
       "       -0.99752388, -1.10997623, -1.10991242, -1.06954693, -1.05206177,\n",
       "       -1.00932733, -1.        , -0.99695645, -1.22180025, -0.98665327,\n",
       "       -1.04917452, -0.9770487 , -1.00182222, -1.1297428 , -1.02905229,\n",
       "       -1.00932733, -1.00952195, -1.        , -0.97789429, -1.24677021,\n",
       "       -1.08052553, -1.14546753, -1.        , -1.02886456, -1.08459897,\n",
       "       -1.0346788 , -1.        , -1.05064869, -0.97789429, -0.98426591,\n",
       "       -0.99752388, -1.51346171, -0.96512207, -1.12846389, -0.99025673,\n",
       "       -1.00932733, -1.00167335, -0.99695645, -1.44722123, -1.02056094,\n",
       "       -0.98746721, -0.98087391, -1.4984518 , -0.95489552, -0.95000029,\n",
       "       -0.98534825, -1.17360925, -1.5011382 , -1.05622896, -1.00603503,\n",
       "       -1.02704484, -0.98087391, -0.96512207, -1.12846389, -1.33618214,\n",
       "       -0.9701698 , -1.00952195, -0.99695645, -0.92440755, -1.00603503,\n",
       "       -1.20877992, -0.94044414, -1.00182222, -1.01153166, -0.96061838,\n",
       "       -0.95851924, -1.02331945, -1.1692113 , -0.99018432, -0.97889344,\n",
       "       -0.98746721, -0.97952602, -1.03418342, -1.02886456, -1.11625139,\n",
       "       -1.10875322, -1.        , -0.99540489, -1.01495829, -1.11791177,\n",
       "       -1.37575338, -1.07826224, -1.00182222, -1.23496754, -1.5407698 ,\n",
       "       -1.62277001, -1.        , -0.99540489, -1.11913296, -1.04426329,\n",
       "       -1.28307777, -1.10997623, -1.        , -1.17476876, -0.95000029,\n",
       "       -1.10759376, -1.03816692, -0.99695645, -1.07657834, -0.97889344,\n",
       "       -0.99025996, -1.10997623, -1.00182222, -1.06954693, -0.96061838,\n",
       "       -0.9705188 , -1.02331945, -0.99898548, -1.10867352, -0.97889344,\n",
       "       -0.99025996, -0.94044414, -0.96512207, -0.95489552, -1.08459897,\n",
       "       -0.95851924, -1.00167335, -0.99898548, -0.97789429, -0.98426591,\n",
       "       -1.08052553, -0.98087391, -1.        , -0.95489552, -1.02905229,\n",
       "       -0.9705188 , -1.00167335, -1.        , -1.04749423, -1.02056094,\n",
       "       -1.04917452, -1.48911935, -1.        , -1.29781825, -0.96061838,\n",
       "       -1.00589061, -1.47765335, -1.05064869, -1.79615295, -1.11791177,\n",
       "       -1.02704484, -0.9770487 , -0.96512207, -1.29781825, -0.99325176,\n",
       "       -0.9701698 , -1.        , -1.05064869, -0.97789429, -1.04426329,\n",
       "       -0.98746721, -0.9770487 , -0.96512207, -0.95489552, -1.33618214,\n",
       "       -0.9701698 , -1.03816692, -0.99695645, -0.99018432, -1.00603503,\n",
       "       -0.98746721, -1.07826224, -1.03418342, -1.09463571, -0.96061838,\n",
       "       -1.40078897, -1.02331945, -1.30256625, -1.03401795, -0.97889344,\n",
       "       -1.02704484, -0.97952602, -1.75662901, -1.01153166, -1.11625139,\n",
       "       -0.95851924, -1.00952195, -1.1692113 , -0.92440755, -1.17009907,\n",
       "       -1.20877992, -0.98830058, -1.10031885, -1.01153166, -1.9843507 ,\n",
       "       -1.0346788 , -1.        , -0.99540489, -1.13050842, -1.35830322,\n",
       "       -1.25216634, -1.10997623, -1.00182222, -1.14004542, -1.01217197,\n",
       "       -1.0346788 , -1.03816692, -1.06562796, -1.11913296, -0.97889344,\n",
       "       -0.99025996, -0.98830058, -1.00182222, -1.06954693, -0.96061838,\n",
       "       -1.00932733, -1.03816692, -0.99898548, -1.58931893, -0.98665327,\n",
       "       -0.99752388, -0.94044414, -1.00182222, -1.02886456, -1.05206177,\n",
       "       -0.9705188 , -1.00167335, -0.99898548, -0.99018432, -1.24677021,\n",
       "       -1.08052553, -1.14546753, -1.00182222, -1.07549818, -1.08459897,\n",
       "       -1.0346788 , -1.096609  , -1.        , -1.05622896, -0.98426591,\n",
       "       -0.99025996, -1.51346171, -1.00182222, -1.12846389, -0.99025673,\n",
       "       -1.00932733, -1.16131145, -1.        , -1.05622896, -1.00603503,\n",
       "       -1.03506104, -1.14546753, -1.4984518 , -0.95489552, -0.99325176,\n",
       "       -0.9701698 , -1.        , -0.99695645, -1.10867352, -1.04426329,\n",
       "       -0.98746721, -0.97952602, -1.24245223, -0.95489552, -1.31324507,\n",
       "       -0.95851924, -1.02331945, -0.99540489, -0.97789429, -1.00603503,\n",
       "       -0.98746721, -1.07826224, -1.10031885, -1.09463571, -0.95000029,\n",
       "       -0.95851924, -1.02331945, -1.30256625, -0.99018432, -0.97889344,\n",
       "       -1.02704484, -0.97952602, -1.75662901, -1.31516266, -0.99325176,\n",
       "       -1.10875322, -1.02331945, -1.12818296, -1.03401795, -1.38309661,\n",
       "       -1.20877992, -0.97952602, -1.10031885, -1.23496754, -0.99325176,\n",
       "       -1.0346788 , -1.00167335, -1.12818296, -1.29324066, -1.04426329,\n",
       "       -0.99752388, -0.94044414, -1.00182222, -1.06954693, -0.96061838,\n",
       "       -1.10759376, -1.03816692, -0.99540489, -1.07657834, -1.02056094,\n",
       "       -0.99025996, -0.98830058, -0.96512207, -1.07549818, -1.02905229,\n",
       "       -1.3934889 , -1.        , -0.99898548, -1.58931893, -0.98426591,\n",
       "       -0.99752388, -0.94044414, -0.99250523, -0.95489552, -0.96061838,\n",
       "       -1.00589061, -1.17360925, -1.        , -0.97789429, -1.24677021,\n",
       "       -0.99752388, -1.14546753, -1.        , -0.95489552, -1.02905229,\n",
       "       -0.9705188 , -1.        , -1.05064869, -1.05622896, -0.98426591,\n",
       "       -1.04917452, -0.98087391, -0.96512207, -1.29781825, -0.96061838,\n",
       "       -0.9705188 , -1.38283154, -1.        , -1.44722123, -1.00603503,\n",
       "       -1.04917452, -0.98087391, -1.10991242, -0.95489552, -1.01217197,\n",
       "       -0.95851924, -1.00952195, -1.5691995 , -1.10867352, -1.04426329,\n",
       "       -1.02704484, -0.98830058, -1.00182222, -0.95489552, -1.31324507,\n",
       "       -0.95851924, -1.00952195, -0.99540489, -0.92440755, -1.00603503,\n",
       "       -1.03506104, -1.37301715, -1.10031885, -1.01153166, -0.99025673,\n",
       "       -0.98534825, -1.        , -1.12818296, -1.01495829, -1.00603503,\n",
       "       -1.03506104, -0.97952602, -1.75662901, -1.31516266, -1.11625139,\n",
       "       -0.9701698 , -1.        , -1.30256625, -1.01495829, -1.00603503,\n",
       "       -1.20877992, -0.97952602, -1.10031885, -1.01153166, -0.99325176])"
      ]
     },
     "execution_count": 34,
     "metadata": {},
     "output_type": "execute_result"
    }
   ],
   "source": [
    "from sklearn.neighbors import LocalOutlierFactor\n",
    "\n",
    "lof = LocalOutlierFactor()\n",
    "lof.fit_predict(outlier_df[[\"latitude\", \"longitude\"]])\n",
    "lof.negative_outlier_factor_"
   ]
  },
  {
   "cell_type": "code",
   "execution_count": 35,
   "metadata": {},
   "outputs": [
    {
     "data": {
      "text/plain": [
       "DescribeResult(nobs=505, minmax=(np.float64(-1.984350702921958), np.float64(-0.9244075478928011)), mean=np.float64(-1.0653203911193332), variance=np.float64(0.023283448299278347), skewness=np.float64(-2.8070042971759577), kurtosis=np.float64(9.367597529808812))"
      ]
     },
     "execution_count": 35,
     "metadata": {},
     "output_type": "execute_result"
    }
   ],
   "source": [
    "# check the distribution of factors\n",
    "from scipy import stats\n",
    "\n",
    "stats.describe(lof.negative_outlier_factor_)"
   ]
  },
  {
   "cell_type": "code",
   "execution_count": 36,
   "metadata": {},
   "outputs": [
    {
     "data": {
      "text/plain": [
       "(array([  2.,   1.,   3.,   5.,   9.,  11.,  24.,  25., 111., 314.]),\n",
       " array([-1.9843507 , -1.87835639, -1.77236207, -1.66636776, -1.56037344,\n",
       "        -1.45437913, -1.34838481, -1.24239049, -1.13639618, -1.03040186,\n",
       "        -0.92440755]),\n",
       " <BarContainer object of 10 artists>)"
      ]
     },
     "execution_count": 36,
     "metadata": {},
     "output_type": "execute_result"
    },
    {
     "data": {
      "image/png": "[encoded data removed]",
      "text/plain": [
       "<Figure size 640x480 with 1 Axes>"
      ]
     },
     "metadata": {},
     "output_type": "display_data"
    }
   ],
   "source": [
    "plt.hist(lof.negative_outlier_factor_)"
   ]
  },
  {
   "cell_type": "code",
   "execution_count": 37,
   "metadata": {},
   "outputs": [
    {
     "data": {
      "text/html": [
       "<div>\n",
       "<style scoped>\n",
       "    .dataframe tbody tr th:only-of-type {\n",
       "        vertical-align: middle;\n",
       "    }\n",
       "\n",
       "    .dataframe tbody tr th {\n",
       "        vertical-align: top;\n",
       "    }\n",
       "\n",
       "    .dataframe thead th {\n",
       "        text-align: right;\n",
       "    }\n",
       "</style>\n",
       "<table border=\"1\" class=\"dataframe\">\n",
       "  <thead>\n",
       "    <tr style=\"text-align: right;\">\n",
       "      <th></th>\n",
       "      <th>latitude</th>\n",
       "      <th>longitude</th>\n",
       "      <th>cluster</th>\n",
       "      <th>outlier</th>\n",
       "    </tr>\n",
       "  </thead>\n",
       "  <tbody>\n",
       "    <tr>\n",
       "      <th>0</th>\n",
       "      <td>37.682009</td>\n",
       "      <td>-121.892674</td>\n",
       "      <td>2</td>\n",
       "      <td>0</td>\n",
       "    </tr>\n",
       "    <tr>\n",
       "      <th>1</th>\n",
       "      <td>37.682212</td>\n",
       "      <td>-121.892932</td>\n",
       "      <td>3</td>\n",
       "      <td>0</td>\n",
       "    </tr>\n",
       "    <tr>\n",
       "      <th>2</th>\n",
       "      <td>37.682222</td>\n",
       "      <td>-121.892216</td>\n",
       "      <td>0</td>\n",
       "      <td>0</td>\n",
       "    </tr>\n",
       "    <tr>\n",
       "      <th>3</th>\n",
       "      <td>37.681791</td>\n",
       "      <td>-121.892456</td>\n",
       "      <td>4</td>\n",
       "      <td>0</td>\n",
       "    </tr>\n",
       "    <tr>\n",
       "      <th>4</th>\n",
       "      <td>37.681597</td>\n",
       "      <td>-121.892582</td>\n",
       "      <td>1</td>\n",
       "      <td>0</td>\n",
       "    </tr>\n",
       "    <tr>\n",
       "      <th>...</th>\n",
       "      <td>...</td>\n",
       "      <td>...</td>\n",
       "      <td>...</td>\n",
       "      <td>...</td>\n",
       "    </tr>\n",
       "    <tr>\n",
       "      <th>500</th>\n",
       "      <td>37.681969</td>\n",
       "      <td>-121.892754</td>\n",
       "      <td>2</td>\n",
       "      <td>0</td>\n",
       "    </tr>\n",
       "    <tr>\n",
       "      <th>501</th>\n",
       "      <td>37.682232</td>\n",
       "      <td>-121.892912</td>\n",
       "      <td>3</td>\n",
       "      <td>0</td>\n",
       "    </tr>\n",
       "    <tr>\n",
       "      <th>502</th>\n",
       "      <td>37.682242</td>\n",
       "      <td>-121.892196</td>\n",
       "      <td>0</td>\n",
       "      <td>0</td>\n",
       "    </tr>\n",
       "    <tr>\n",
       "      <th>503</th>\n",
       "      <td>37.681811</td>\n",
       "      <td>-121.892516</td>\n",
       "      <td>4</td>\n",
       "      <td>0</td>\n",
       "    </tr>\n",
       "    <tr>\n",
       "      <th>504</th>\n",
       "      <td>37.681637</td>\n",
       "      <td>-121.892602</td>\n",
       "      <td>1</td>\n",
       "      <td>0</td>\n",
       "    </tr>\n",
       "  </tbody>\n",
       "</table>\n",
       "<p>505 rows × 4 columns</p>\n",
       "</div>"
      ],
      "text/plain": [
       "      latitude   longitude  cluster  outlier\n",
       "0    37.682009 -121.892674        2        0\n",
       "1    37.682212 -121.892932        3        0\n",
       "2    37.682222 -121.892216        0        0\n",
       "3    37.681791 -121.892456        4        0\n",
       "4    37.681597 -121.892582        1        0\n",
       "..         ...         ...      ...      ...\n",
       "500  37.681969 -121.892754        2        0\n",
       "501  37.682232 -121.892912        3        0\n",
       "502  37.682242 -121.892196        0        0\n",
       "503  37.681811 -121.892516        4        0\n",
       "504  37.681637 -121.892602        1        0\n",
       "\n",
       "[505 rows x 4 columns]"
      ]
     },
     "execution_count": 37,
     "metadata": {},
     "output_type": "execute_result"
    }
   ],
   "source": [
    "# Seems majority are around -1, use -2 as the threshold for outliers\n",
    "outlier_df[\"outlier\"] = (lof.negative_outlier_factor_ < -2.0).astype(int)\n",
    "outlier_df"
   ]
  },
  {
   "cell_type": "code",
   "execution_count": 38,
   "metadata": {},
   "outputs": [
    {
     "data": {
      "text/plain": [
       "<matplotlib.collections.PathCollection at 0x1487cee10>"
      ]
     },
     "execution_count": 38,
     "metadata": {},
     "output_type": "execute_result"
    },
    {
     "data": {
      "image/png": "[encoded data removed]",
      "text/plain": [
       "<Figure size 640x480 with 1 Axes>"
      ]
     },
     "metadata": {},
     "output_type": "display_data"
    }
   ],
   "source": [
    "plt.scatter(data=outlier_df, x=\"longitude\", y=\"latitude\", c=\"outlier\")"
   ]
  },
  {
   "cell_type": "markdown",
   "metadata": {},
   "source": [
    "#### Remove Outliers"
   ]
  },
  {
   "cell_type": "code",
   "execution_count": 39,
   "metadata": {},
   "outputs": [
    {
     "data": {
      "text/html": [
       "<div>\n",
       "<style scoped>\n",
       "    .dataframe tbody tr th:only-of-type {\n",
       "        vertical-align: middle;\n",
       "    }\n",
       "\n",
       "    .dataframe tbody tr th {\n",
       "        vertical-align: top;\n",
       "    }\n",
       "\n",
       "    .dataframe thead th {\n",
       "        text-align: right;\n",
       "    }\n",
       "</style>\n",
       "<table border=\"1\" class=\"dataframe\">\n",
       "  <thead>\n",
       "    <tr style=\"text-align: right;\">\n",
       "      <th></th>\n",
       "      <th>latitude</th>\n",
       "      <th>longitude</th>\n",
       "      <th>cluster</th>\n",
       "      <th>outlier</th>\n",
       "    </tr>\n",
       "  </thead>\n",
       "  <tbody>\n",
       "    <tr>\n",
       "      <th>0</th>\n",
       "      <td>37.682009</td>\n",
       "      <td>-121.892674</td>\n",
       "      <td>2</td>\n",
       "      <td>0</td>\n",
       "    </tr>\n",
       "    <tr>\n",
       "      <th>1</th>\n",
       "      <td>37.682212</td>\n",
       "      <td>-121.892932</td>\n",
       "      <td>3</td>\n",
       "      <td>0</td>\n",
       "    </tr>\n",
       "    <tr>\n",
       "      <th>2</th>\n",
       "      <td>37.682222</td>\n",
       "      <td>-121.892216</td>\n",
       "      <td>0</td>\n",
       "      <td>0</td>\n",
       "    </tr>\n",
       "    <tr>\n",
       "      <th>3</th>\n",
       "      <td>37.681791</td>\n",
       "      <td>-121.892456</td>\n",
       "      <td>4</td>\n",
       "      <td>0</td>\n",
       "    </tr>\n",
       "    <tr>\n",
       "      <th>4</th>\n",
       "      <td>37.681597</td>\n",
       "      <td>-121.892582</td>\n",
       "      <td>1</td>\n",
       "      <td>0</td>\n",
       "    </tr>\n",
       "    <tr>\n",
       "      <th>...</th>\n",
       "      <td>...</td>\n",
       "      <td>...</td>\n",
       "      <td>...</td>\n",
       "      <td>...</td>\n",
       "    </tr>\n",
       "    <tr>\n",
       "      <th>500</th>\n",
       "      <td>37.681969</td>\n",
       "      <td>-121.892754</td>\n",
       "      <td>2</td>\n",
       "      <td>0</td>\n",
       "    </tr>\n",
       "    <tr>\n",
       "      <th>501</th>\n",
       "      <td>37.682232</td>\n",
       "      <td>-121.892912</td>\n",
       "      <td>3</td>\n",
       "      <td>0</td>\n",
       "    </tr>\n",
       "    <tr>\n",
       "      <th>502</th>\n",
       "      <td>37.682242</td>\n",
       "      <td>-121.892196</td>\n",
       "      <td>0</td>\n",
       "      <td>0</td>\n",
       "    </tr>\n",
       "    <tr>\n",
       "      <th>503</th>\n",
       "      <td>37.681811</td>\n",
       "      <td>-121.892516</td>\n",
       "      <td>4</td>\n",
       "      <td>0</td>\n",
       "    </tr>\n",
       "    <tr>\n",
       "      <th>504</th>\n",
       "      <td>37.681637</td>\n",
       "      <td>-121.892602</td>\n",
       "      <td>1</td>\n",
       "      <td>0</td>\n",
       "    </tr>\n",
       "  </tbody>\n",
       "</table>\n",
       "<p>505 rows × 4 columns</p>\n",
       "</div>"
      ],
      "text/plain": [
       "      latitude   longitude  cluster  outlier\n",
       "0    37.682009 -121.892674        2        0\n",
       "1    37.682212 -121.892932        3        0\n",
       "2    37.682222 -121.892216        0        0\n",
       "3    37.681791 -121.892456        4        0\n",
       "4    37.681597 -121.892582        1        0\n",
       "..         ...         ...      ...      ...\n",
       "500  37.681969 -121.892754        2        0\n",
       "501  37.682232 -121.892912        3        0\n",
       "502  37.682242 -121.892196        0        0\n",
       "503  37.681811 -121.892516        4        0\n",
       "504  37.681637 -121.892602        1        0\n",
       "\n",
       "[505 rows x 4 columns]"
      ]
     },
     "execution_count": 39,
     "metadata": {},
     "output_type": "execute_result"
    }
   ],
   "source": [
    "clean_df = outlier_df[outlier_df[\"outlier\"] == 0]\n",
    "clean_df"
   ]
  },
  {
   "cell_type": "markdown",
   "metadata": {},
   "source": [
    "#### Re-Clustering"
   ]
  },
  {
   "cell_type": "code",
   "execution_count": 40,
   "metadata": {},
   "outputs": [
    {
     "data": {
      "text/html": [
       "<div>\n",
       "<style scoped>\n",
       "    .dataframe tbody tr th:only-of-type {\n",
       "        vertical-align: middle;\n",
       "    }\n",
       "\n",
       "    .dataframe tbody tr th {\n",
       "        vertical-align: top;\n",
       "    }\n",
       "\n",
       "    .dataframe thead th {\n",
       "        text-align: right;\n",
       "    }\n",
       "</style>\n",
       "<table border=\"1\" class=\"dataframe\">\n",
       "  <thead>\n",
       "    <tr style=\"text-align: right;\">\n",
       "      <th></th>\n",
       "      <th>latitude</th>\n",
       "      <th>longitude</th>\n",
       "      <th>cluster</th>\n",
       "      <th>outlier</th>\n",
       "    </tr>\n",
       "  </thead>\n",
       "  <tbody>\n",
       "    <tr>\n",
       "      <th>0</th>\n",
       "      <td>37.682009</td>\n",
       "      <td>-121.892674</td>\n",
       "      <td>4</td>\n",
       "      <td>0</td>\n",
       "    </tr>\n",
       "    <tr>\n",
       "      <th>1</th>\n",
       "      <td>37.682212</td>\n",
       "      <td>-121.892932</td>\n",
       "      <td>1</td>\n",
       "      <td>0</td>\n",
       "    </tr>\n",
       "    <tr>\n",
       "      <th>2</th>\n",
       "      <td>37.682222</td>\n",
       "      <td>-121.892216</td>\n",
       "      <td>0</td>\n",
       "      <td>0</td>\n",
       "    </tr>\n",
       "    <tr>\n",
       "      <th>3</th>\n",
       "      <td>37.681791</td>\n",
       "      <td>-121.892456</td>\n",
       "      <td>3</td>\n",
       "      <td>0</td>\n",
       "    </tr>\n",
       "    <tr>\n",
       "      <th>4</th>\n",
       "      <td>37.681597</td>\n",
       "      <td>-121.892582</td>\n",
       "      <td>2</td>\n",
       "      <td>0</td>\n",
       "    </tr>\n",
       "    <tr>\n",
       "      <th>...</th>\n",
       "      <td>...</td>\n",
       "      <td>...</td>\n",
       "      <td>...</td>\n",
       "      <td>...</td>\n",
       "    </tr>\n",
       "    <tr>\n",
       "      <th>500</th>\n",
       "      <td>37.681969</td>\n",
       "      <td>-121.892754</td>\n",
       "      <td>4</td>\n",
       "      <td>0</td>\n",
       "    </tr>\n",
       "    <tr>\n",
       "      <th>501</th>\n",
       "      <td>37.682232</td>\n",
       "      <td>-121.892912</td>\n",
       "      <td>1</td>\n",
       "      <td>0</td>\n",
       "    </tr>\n",
       "    <tr>\n",
       "      <th>502</th>\n",
       "      <td>37.682242</td>\n",
       "      <td>-121.892196</td>\n",
       "      <td>0</td>\n",
       "      <td>0</td>\n",
       "    </tr>\n",
       "    <tr>\n",
       "      <th>503</th>\n",
       "      <td>37.681811</td>\n",
       "      <td>-121.892516</td>\n",
       "      <td>3</td>\n",
       "      <td>0</td>\n",
       "    </tr>\n",
       "    <tr>\n",
       "      <th>504</th>\n",
       "      <td>37.681637</td>\n",
       "      <td>-121.892602</td>\n",
       "      <td>2</td>\n",
       "      <td>0</td>\n",
       "    </tr>\n",
       "  </tbody>\n",
       "</table>\n",
       "<p>505 rows × 4 columns</p>\n",
       "</div>"
      ],
      "text/plain": [
       "      latitude   longitude  cluster  outlier\n",
       "0    37.682009 -121.892674        4        0\n",
       "1    37.682212 -121.892932        1        0\n",
       "2    37.682222 -121.892216        0        0\n",
       "3    37.681791 -121.892456        3        0\n",
       "4    37.681597 -121.892582        2        0\n",
       "..         ...         ...      ...      ...\n",
       "500  37.681969 -121.892754        4        0\n",
       "501  37.682232 -121.892912        1        0\n",
       "502  37.682242 -121.892196        0        0\n",
       "503  37.681811 -121.892516        3        0\n",
       "504  37.681637 -121.892602        2        0\n",
       "\n",
       "[505 rows x 4 columns]"
      ]
     },
     "execution_count": 40,
     "metadata": {},
     "output_type": "execute_result"
    }
   ],
   "source": [
    "k_means = KMeans(n_clusters=5, random_state=0, n_init=\"auto\").fit(clean_df)\n",
    "clean_df[\"cluster\"] = k_means.labels_\n",
    "clean_df"
   ]
  },
  {
   "cell_type": "code",
   "execution_count": 41,
   "metadata": {},
   "outputs": [
    {
     "data": {
      "text/plain": [
       "<matplotlib.collections.PathCollection at 0x148a259d0>"
      ]
     },
     "execution_count": 41,
     "metadata": {},
     "output_type": "execute_result"
    },
    {
     "data": {
      "image/png": "[encoded data removed]",
      "text/plain": [
       "<Figure size 640x480 with 1 Axes>"
      ]
     },
     "metadata": {},
     "output_type": "display_data"
    }
   ],
   "source": [
    "plt.scatter(data=clean_df, x=\"longitude\", y=\"latitude\", c=\"cluster\")"
   ]
  }
 ],
 "metadata": {
  "kernelspec": {
   "display_name": "Python 3",
   "language": "python",
   "name": "python3"
  },
  "language_info": {
   "codemirror_mode": {
    "name": "ipython",
    "version": 3
   },
   "file_extension": ".py",
   "mimetype": "text/x-python",
   "name": "python",
   "nbconvert_exporter": "python",
   "pygments_lexer": "ipython3",
   "version": "3.12.6"
  }
 },
 "nbformat": 4,
 "nbformat_minor": 2
}
